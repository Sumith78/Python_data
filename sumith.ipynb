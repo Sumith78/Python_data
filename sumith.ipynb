{
 "cells": [
  {
   "cell_type": "code",
   "execution_count": 40,
   "metadata": {},
   "outputs": [
    {
     "name": "stdout",
     "output_type": "stream",
     "text": [
      "    OrderID     Product  Quantity   Price  OrderDate  TotalPrice\n",
      "0      1001      Laptop         3  982.89 2021-01-01     2948.67\n",
      "1      1002     Monitor         4  839.33 2021-01-02     3357.32\n",
      "2      1003      Tablet         4  569.18 2021-01-03     2276.72\n",
      "3      1004      Laptop         3  824.42 2021-01-04     2473.26\n",
      "4      1005     Monitor         1  294.62 2021-01-05      294.62\n",
      "5      1006     Monitor         2  711.94 2021-01-06     1423.88\n",
      "6      1007     Monitor         2  314.68 2021-01-07      629.36\n",
      "7      1008     Monitor         2  955.74 2021-01-08     1911.48\n",
      "8      1009      Tablet         2  617.48 2021-01-09     1234.96\n",
      "9      1010     Monitor         1  531.73 2021-01-10      531.73\n",
      "10     1011      Tablet         2  411.64 2021-01-11      823.28\n",
      "11     1012  SmartPhone         1  819.39 2021-01-12      819.39\n",
      "12     1013      Laptop         4  564.92 2021-01-13     2259.68\n",
      "13     1014     Monitor         1  654.75 2021-01-14      654.75\n",
      "14     1015  SmartPhone         4  215.03 2021-01-15      860.12\n",
      "15     1016      Laptop         2  694.11 2021-01-16     1388.22\n",
      "16     1017      Laptop         3  689.68 2021-01-17     2069.04\n",
      "17     1018      Laptop         4  693.55 2021-01-18     2774.20\n",
      "18     1019  SmartPhone         4  955.00 2021-01-19     3820.00\n",
      "19     1020      Tablet         1  745.46 2021-01-20      745.46\n"
     ]
    },
    {
     "data": {
      "image/png": "[encoded data removed]",
      "text/plain": [
       "<Figure size 1000x600 with 1 Axes>"
      ]
     },
     "metadata": {},
     "output_type": "display_data"
    },
    {
     "name": "stdout",
     "output_type": "stream",
     "text": [
      "      Product  TotalSales\n",
      "0      Laptop    13913.07\n",
      "1     Monitor     8803.14\n",
      "2  SmartPhone     5499.51\n",
      "3      Tablet     5080.42\n"
     ]
    }
   ],
   "source": [
    "# setting the random seed ensures reproducibility .this means that every time you run a code , you will get the same random numbers,which is useful for debugging and consistent results.\n",
    "\n",
    "import pandas as pd\n",
    "import numpy as np\n",
    "import matplotlib.pyplot as plt\n",
    "import seaborn as sns\n",
    "import sqlite3\n",
    "\n",
    "np.random.seed(0)\n",
    "\n",
    "data={\n",
    "  'OrderID':np.arange(1001,1021),\n",
    "  'Product':np.random.choice(['Laptop','Tablet','SmartPhone','Monitor'],size=20),\n",
    "  'Quantity':np.random.randint(1,5,size=20),\n",
    "  'Price':np.random.uniform(200,1000,size=20).round(2),\n",
    "  'OrderDate':pd.date_range(start='2021-01-01',periods=20,freq='D')\n",
    "}\n",
    "\n",
    "df=pd.DataFrame(data)\n",
    "df['TotalPrice']=df['Quantity']*df['Price']\n",
    "print(df)\n",
    "\n",
    "plt.figure(figsize=(10,6))\n",
    "sns.barplot(x='OrderID',y='TotalPrice',data=df)\n",
    "plt.title('Total Price of Orders')\n",
    "plt.xlabel('OrderID')\n",
    "plt.ylabel('Total Price')\n",
    "plt.xticks(rotation=90)\n",
    "plt.show()\n",
    "\n",
    "\n",
    "# SQL Operations using SQLite\n",
    "conn = sqlite3.connect('retail.db')\n",
    "\n",
    "# Load data into SQL tables\n",
    "df.to_sql('orders', conn, if_exists='replace', index=False)\n",
    "\n",
    "# Query data using SQL\n",
    "query = '''\n",
    "SELECT Product, SUM(TotalPrice) as TotalSales\n",
    "FROM orders\n",
    "GROUP BY Product\n",
    "ORDER BY TotalSales DESC\n",
    "'''\n",
    "\n",
    "result = pd.read_sql(query, conn)\n",
    "print(result)\n",
    "\n"
   ]
  },
  {
   "cell_type": "code",
   "execution_count": 6,
   "metadata": {},
   "outputs": [
    {
     "name": "stdout",
     "output_type": "stream",
     "text": [
      "   Order_id  Product  Quantity   Price  OrderDate  TotalPrice\n",
      "0      1001   Laptop         3  982.89 2021-01-01     2948.67\n",
      "1      1002  Monitor         4  839.33 2021-01-02     3357.32\n",
      "2      1003   Tablet         4  569.18 2021-01-03     2276.72\n",
      "3      1004   Laptop         3  824.42 2021-01-04     2473.26\n",
      "4      1005  Monitor         1  294.62 2021-01-05      294.62\n"
     ]
    }
   ],
   "source": [
    "#first few rows\n",
    "import pandas as pd\n",
    "import numpy as np\n",
    "print(df.head())"
   ]
  },
  {
   "cell_type": "code",
   "execution_count": 7,
   "metadata": {},
   "outputs": [
    {
     "name": "stdout",
     "output_type": "stream",
     "text": [
      "    Order_id     Product  Quantity   Price  OrderDate  TotalPrice\n",
      "15      1016      Laptop         2  694.11 2021-01-16     1388.22\n",
      "16      1017      Laptop         3  689.68 2021-01-17     2069.04\n",
      "17      1018      Laptop         4  693.55 2021-01-18     2774.20\n",
      "18      1019  SmartPhone         4  955.00 2021-01-19     3820.00\n",
      "19      1020      Tablet         1  745.46 2021-01-20      745.46\n"
     ]
    }
   ],
   "source": [
    "#last few rows\n",
    "print(df.tail())"
   ]
  },
  {
   "cell_type": "code",
   "execution_count": 8,
   "metadata": {},
   "outputs": [
    {
     "name": "stdout",
     "output_type": "stream",
     "text": [
      "         Order_id   Quantity      Price            OrderDate   TotalPrice\n",
      "count    20.00000  20.000000   20.00000                   20    20.000000\n",
      "mean   1010.50000   2.500000  654.27700  2021-01-10 12:00:00  1664.807000\n",
      "min    1001.00000   1.000000  215.03000  2021-01-01 00:00:00   294.620000\n",
      "25%    1005.75000   1.750000  556.62250  2021-01-05 18:00:00   800.907500\n",
      "50%    1010.50000   2.000000  691.61500  2021-01-10 12:00:00  1406.050000\n",
      "75%    1015.25000   4.000000  820.64750  2021-01-15 06:00:00  2325.855000\n",
      "max    1020.00000   4.000000  982.89000  2021-01-20 00:00:00  3820.000000\n",
      "std       5.91608   1.192079  220.50972                  NaN  1038.299408\n"
     ]
    }
   ],
   "source": [
    "#display summary statistics\n",
    "print(df.describe())"
   ]
  },
  {
   "cell_type": "code",
   "execution_count": 9,
   "metadata": {},
   "outputs": [
    {
     "name": "stdout",
     "output_type": "stream",
     "text": [
      "Order_id      0\n",
      "Product       0\n",
      "Quantity      0\n",
      "Price         0\n",
      "OrderDate     0\n",
      "TotalPrice    0\n",
      "dtype: int64\n"
     ]
    }
   ],
   "source": [
    "#checking the missing values\n",
    "print(df.isnull().sum())"
   ]
  },
  {
   "cell_type": "code",
   "execution_count": 10,
   "metadata": {},
   "outputs": [
    {
     "name": "stdout",
     "output_type": "stream",
     "text": [
      "0         Laptop\n",
      "1        Monitor\n",
      "2         Tablet\n",
      "3         Laptop\n",
      "4        Monitor\n",
      "5        Monitor\n",
      "6        Monitor\n",
      "7        Monitor\n",
      "8         Tablet\n",
      "9        Monitor\n",
      "10        Tablet\n",
      "11    SmartPhone\n",
      "12        Laptop\n",
      "13       Monitor\n",
      "14    SmartPhone\n",
      "15        Laptop\n",
      "16        Laptop\n",
      "17        Laptop\n",
      "18    SmartPhone\n",
      "19        Tablet\n",
      "Name: Product, dtype: object\n"
     ]
    }
   ],
   "source": [
    "#select a single column\n",
    "print(df['Product'])"
   ]
  },
  {
   "cell_type": "code",
   "execution_count": 11,
   "metadata": {},
   "outputs": [
    {
     "name": "stdout",
     "output_type": "stream",
     "text": [
      "       Product  Quantity\n",
      "0       Laptop         3\n",
      "1      Monitor         4\n",
      "2       Tablet         4\n",
      "3       Laptop         3\n",
      "4      Monitor         1\n",
      "5      Monitor         2\n",
      "6      Monitor         2\n",
      "7      Monitor         2\n",
      "8       Tablet         2\n",
      "9      Monitor         1\n",
      "10      Tablet         2\n",
      "11  SmartPhone         1\n",
      "12      Laptop         4\n",
      "13     Monitor         1\n",
      "14  SmartPhone         4\n",
      "15      Laptop         2\n",
      "16      Laptop         3\n",
      "17      Laptop         4\n",
      "18  SmartPhone         4\n",
      "19      Tablet         1\n"
     ]
    }
   ],
   "source": [
    "#select multiple columns\n",
    "print(df[['Product','Quantity']])"
   ]
  },
  {
   "cell_type": "code",
   "execution_count": 12,
   "metadata": {},
   "outputs": [
    {
     "name": "stdout",
     "output_type": "stream",
     "text": [
      "    Order_id     Product  Quantity   Price  OrderDate  TotalPrice\n",
      "0       1001      Laptop         3  982.89 2021-01-01     2948.67\n",
      "1       1002     Monitor         4  839.33 2021-01-02     3357.32\n",
      "2       1003      Tablet         4  569.18 2021-01-03     2276.72\n",
      "3       1004      Laptop         3  824.42 2021-01-04     2473.26\n",
      "12      1013      Laptop         4  564.92 2021-01-13     2259.68\n",
      "14      1015  SmartPhone         4  215.03 2021-01-15      860.12\n",
      "16      1017      Laptop         3  689.68 2021-01-17     2069.04\n",
      "17      1018      Laptop         4  693.55 2021-01-18     2774.20\n",
      "18      1019  SmartPhone         4  955.00 2021-01-19     3820.00\n"
     ]
    }
   ],
   "source": [
    "#filter rows where Quantity is greater than 2\n",
    "filter_df=df[df['Quantity']>2]\n",
    "print(filter_df)"
   ]
  },
  {
   "cell_type": "code",
   "execution_count": 13,
   "metadata": {},
   "outputs": [
    {
     "name": "stdout",
     "output_type": "stream",
     "text": [
      "Product\n",
      "Laptop        19\n",
      "Monitor       13\n",
      "SmartPhone     9\n",
      "Tablet         9\n",
      "Name: Quantity, dtype: int32\n"
     ]
    }
   ],
   "source": [
    "#group by product and calculate total quantity sold\n",
    "grouped_df=df.groupby('Product')['Quantity'].sum()\n",
    "print(grouped_df)"
   ]
  },
  {
   "cell_type": "code",
   "execution_count": 14,
   "metadata": {},
   "outputs": [
    {
     "name": "stdout",
     "output_type": "stream",
     "text": [
      "Product\n",
      "Laptop        741.595000\n",
      "Monitor       614.684286\n",
      "SmartPhone    663.140000\n",
      "Tablet        585.940000\n",
      "Name: Price, dtype: float64\n"
     ]
    }
   ],
   "source": [
    "#calculate the average price per product\n",
    "avg_price=df.groupby('Product')['Price'].mean()\n",
    "print(avg_price)"
   ]
  },
  {
   "cell_type": "code",
   "execution_count": 16,
   "metadata": {},
   "outputs": [
    {
     "name": "stdout",
     "output_type": "stream",
     "text": [
      "Product\n",
      "Laptop        982.89\n",
      "Monitor       955.74\n",
      "SmartPhone    955.00\n",
      "Tablet        745.46\n",
      "Name: Price, dtype: float64\n"
     ]
    }
   ],
   "source": [
    "avg_price=df.groupby('Product')['Price'].max()\n",
    "print(avg_price)"
   ]
  },
  {
   "cell_type": "code",
   "execution_count": 19,
   "metadata": {},
   "outputs": [],
   "source": [
    "#introduce some NaN values\n",
    "df.loc[5:7,'Price']=np.nan"
   ]
  },
  {
   "cell_type": "code",
   "execution_count": 20,
   "metadata": {},
   "outputs": [
    {
     "name": "stderr",
     "output_type": "stream",
     "text": [
      "C:\\Users\\sumit\\AppData\\Local\\Temp\\ipykernel_13468\\1107667335.py:2: FutureWarning: A value is trying to be set on a copy of a DataFrame or Series through chained assignment using an inplace method.\n",
      "The behavior will change in pandas 3.0. This inplace method will never work because the intermediate object on which we are setting values always behaves as a copy.\n",
      "\n",
      "For example, when doing 'df[col].method(value, inplace=True)', try using 'df.method({col: value}, inplace=True)' or df[col] = df[col].method(value) instead, to perform the operation inplace on the original object.\n",
      "\n",
      "\n",
      "  df['Price'].fillna(df['Price'].mean(),inplace=True)\n"
     ]
    }
   ],
   "source": [
    "#fill NaN values with the mean price\n",
    "df['Price'].fillna(df['Price'].mean(),inplace=True)"
   ]
  },
  {
   "cell_type": "code",
   "execution_count": 21,
   "metadata": {},
   "outputs": [
    {
     "name": "stdout",
     "output_type": "stream",
     "text": [
      "    Order_id     Product  Quantity       Price  OrderDate  TotalPrice\n",
      "0       1001      Laptop         3  982.890000 2021-01-01     2948.67\n",
      "1       1002     Monitor         4  839.330000 2021-01-02     3357.32\n",
      "2       1003      Tablet         4  569.180000 2021-01-03     2276.72\n",
      "3       1004      Laptop         3  824.420000 2021-01-04     2473.26\n",
      "4       1005     Monitor         1  294.620000 2021-01-05      294.62\n",
      "5       1006     Monitor         2  653.128235 2021-01-06     1423.88\n",
      "6       1007     Monitor         2  653.128235 2021-01-07      629.36\n",
      "7       1008     Monitor         2  653.128235 2021-01-08     1911.48\n",
      "8       1009      Tablet         2  617.480000 2021-01-09     1234.96\n",
      "9       1010     Monitor         1  531.730000 2021-01-10      531.73\n",
      "10      1011      Tablet         2  411.640000 2021-01-11      823.28\n",
      "11      1012  SmartPhone         1  819.390000 2021-01-12      819.39\n",
      "12      1013      Laptop         4  564.920000 2021-01-13     2259.68\n",
      "13      1014     Monitor         1  654.750000 2021-01-14      654.75\n",
      "14      1015  SmartPhone         4  215.030000 2021-01-15      860.12\n",
      "15      1016      Laptop         2  694.110000 2021-01-16     1388.22\n",
      "16      1017      Laptop         3  689.680000 2021-01-17     2069.04\n",
      "17      1018      Laptop         4  693.550000 2021-01-18     2774.20\n",
      "18      1019  SmartPhone         4  955.000000 2021-01-19     3820.00\n",
      "19      1020      Tablet         1  745.460000 2021-01-20      745.46\n"
     ]
    }
   ],
   "source": [
    "df_cleaned=df.dropna()\n",
    "print(df_cleaned)"
   ]
  },
  {
   "cell_type": "code",
   "execution_count": 22,
   "metadata": {},
   "outputs": [
    {
     "name": "stdout",
     "output_type": "stream",
     "text": [
      "    Order_id     Product  Quantity       Price  OrderDate  TotalPrice  \\\n",
      "0       1001      Laptop         3  982.890000 2021-01-01     2948.67   \n",
      "1       1002     Monitor         4  839.330000 2021-01-02     3357.32   \n",
      "2       1003      Tablet         4  569.180000 2021-01-03     2276.72   \n",
      "3       1004      Laptop         3  824.420000 2021-01-04     2473.26   \n",
      "4       1005     Monitor         1  294.620000 2021-01-05      294.62   \n",
      "5       1006     Monitor         2  653.128235 2021-01-06     1423.88   \n",
      "6       1007     Monitor         2  653.128235 2021-01-07      629.36   \n",
      "7       1008     Monitor         2  653.128235 2021-01-08     1911.48   \n",
      "8       1009      Tablet         2  617.480000 2021-01-09     1234.96   \n",
      "9       1010     Monitor         1  531.730000 2021-01-10      531.73   \n",
      "10      1011      Tablet         2  411.640000 2021-01-11      823.28   \n",
      "11      1012  SmartPhone         1  819.390000 2021-01-12      819.39   \n",
      "12      1013      Laptop         4  564.920000 2021-01-13     2259.68   \n",
      "13      1014     Monitor         1  654.750000 2021-01-14      654.75   \n",
      "14      1015  SmartPhone         4  215.030000 2021-01-15      860.12   \n",
      "15      1016      Laptop         2  694.110000 2021-01-16     1388.22   \n",
      "16      1017      Laptop         3  689.680000 2021-01-17     2069.04   \n",
      "17      1018      Laptop         4  693.550000 2021-01-18     2774.20   \n",
      "18      1019  SmartPhone         4  955.000000 2021-01-19     3820.00   \n",
      "19      1020      Tablet         1  745.460000 2021-01-20      745.46   \n",
      "\n",
      "       Category  \n",
      "0   Electronics  \n",
      "1   Peripherals  \n",
      "2   Electronics  \n",
      "3   Electronics  \n",
      "4   Peripherals  \n",
      "5   Peripherals  \n",
      "6   Peripherals  \n",
      "7   Peripherals  \n",
      "8   Electronics  \n",
      "9   Peripherals  \n",
      "10  Electronics  \n",
      "11  Electronics  \n",
      "12  Electronics  \n",
      "13  Peripherals  \n",
      "14  Electronics  \n",
      "15  Electronics  \n",
      "16  Electronics  \n",
      "17  Electronics  \n",
      "18  Electronics  \n",
      "19  Electronics  \n"
     ]
    }
   ],
   "source": [
    "data2={\n",
    "  'Product':['Laptop','Tablet','SmartPhone','Monitor'],\n",
    "  'Category':['Electronics','Electronics','Electronics','Peripherals']\n",
    "}\n",
    "\n",
    "df2=pd.DataFrame(data2)\n",
    "\n",
    "#Merge the DataFrames on Product\n",
    "\n",
    "merged_df=pd.merge(df,df2,on='Product')\n",
    "print(merged_df)"
   ]
  },
  {
   "cell_type": "code",
   "execution_count": 23,
   "metadata": {},
   "outputs": [
    {
     "name": "stdout",
     "output_type": "stream",
     "text": [
      "    Order_id     Product  Quantity       Price  OrderDate  TotalPrice  Year  \\\n",
      "0       1001      Laptop         3  982.890000 2021-01-01     2948.67  2021   \n",
      "1       1002     Monitor         4  839.330000 2021-01-02     3357.32  2021   \n",
      "2       1003      Tablet         4  569.180000 2021-01-03     2276.72  2021   \n",
      "3       1004      Laptop         3  824.420000 2021-01-04     2473.26  2021   \n",
      "4       1005     Monitor         1  294.620000 2021-01-05      294.62  2021   \n",
      "5       1006     Monitor         2  653.128235 2021-01-06     1423.88  2021   \n",
      "6       1007     Monitor         2  653.128235 2021-01-07      629.36  2021   \n",
      "7       1008     Monitor         2  653.128235 2021-01-08     1911.48  2021   \n",
      "8       1009      Tablet         2  617.480000 2021-01-09     1234.96  2021   \n",
      "9       1010     Monitor         1  531.730000 2021-01-10      531.73  2021   \n",
      "10      1011      Tablet         2  411.640000 2021-01-11      823.28  2021   \n",
      "11      1012  SmartPhone         1  819.390000 2021-01-12      819.39  2021   \n",
      "12      1013      Laptop         4  564.920000 2021-01-13     2259.68  2021   \n",
      "13      1014     Monitor         1  654.750000 2021-01-14      654.75  2021   \n",
      "14      1015  SmartPhone         4  215.030000 2021-01-15      860.12  2021   \n",
      "15      1016      Laptop         2  694.110000 2021-01-16     1388.22  2021   \n",
      "16      1017      Laptop         3  689.680000 2021-01-17     2069.04  2021   \n",
      "17      1018      Laptop         4  693.550000 2021-01-18     2774.20  2021   \n",
      "18      1019  SmartPhone         4  955.000000 2021-01-19     3820.00  2021   \n",
      "19      1020      Tablet         1  745.460000 2021-01-20      745.46  2021   \n",
      "\n",
      "    Month  Day  \n",
      "0       1    1  \n",
      "1       1    2  \n",
      "2       1    3  \n",
      "3       1    4  \n",
      "4       1    5  \n",
      "5       1    6  \n",
      "6       1    7  \n",
      "7       1    8  \n",
      "8       1    9  \n",
      "9       1   10  \n",
      "10      1   11  \n",
      "11      1   12  \n",
      "12      1   13  \n",
      "13      1   14  \n",
      "14      1   15  \n",
      "15      1   16  \n",
      "16      1   17  \n",
      "17      1   18  \n",
      "18      1   19  \n",
      "19      1   20  \n"
     ]
    }
   ],
   "source": [
    "#convert a column to datetime\n",
    "df['OrderDate']=pd.to_datetime(df['OrderDate'])\n",
    "\n",
    "\n",
    "#Extract year ,month and day from the datetime column\n",
    "df['Year']=df['OrderDate'].dt.year\n",
    "df['Month']=df['OrderDate'].dt.month\n",
    "df['Day']=df['OrderDate'].dt.day\n",
    "\n",
    "print(df)"
   ]
  },
  {
   "cell_type": "code",
   "execution_count": 24,
   "metadata": {},
   "outputs": [
    {
     "name": "stdout",
     "output_type": "stream",
     "text": [
      "Month              1\n",
      "Product             \n",
      "Laptop      13913.07\n",
      "Monitor      8803.14\n",
      "SmartPhone   5499.51\n",
      "Tablet       5080.42\n"
     ]
    },
    {
     "name": "stderr",
     "output_type": "stream",
     "text": [
      "C:\\Users\\sumit\\AppData\\Local\\Temp\\ipykernel_13468\\2098153687.py:1: FutureWarning: The provided callable <function sum at 0x0000018A10EC3240> is currently using DataFrameGroupBy.sum. In a future version of pandas, the provided callable will be used directly. To keep current behavior pass the string \"sum\" instead.\n",
      "  pivot_table=pd.pivot_table(df,values='TotalPrice',index='Product',columns='Month',aggfunc=np.sum)\n"
     ]
    }
   ],
   "source": [
    "pivot_table=pd.pivot_table(df,values='TotalPrice',index='Product',columns='Month',aggfunc=np.sum)\n",
    "print(pivot_table)"
   ]
  },
  {
   "cell_type": "code",
   "execution_count": 30,
   "metadata": {},
   "outputs": [
    {
     "name": "stdout",
     "output_type": "stream",
     "text": [
      "    Order_id     Product  Quantity       Price  OrderDate  TotalPrice  Year  \\\n",
      "0       1001      Laptop         3  982.890000 2021-01-01     2948.67  2021   \n",
      "1       1002     Monitor         4  839.330000 2021-01-02     3357.32  2021   \n",
      "2       1003      Tablet         4  569.180000 2021-01-03     2276.72  2021   \n",
      "3       1004      Laptop         3  824.420000 2021-01-04     2473.26  2021   \n",
      "4       1005     Monitor         1  294.620000 2021-01-05      294.62  2021   \n",
      "5       1006     Monitor         2  653.128235 2021-01-06     1423.88  2021   \n",
      "6       1007     Monitor         2  653.128235 2021-01-07      629.36  2021   \n",
      "7       1008     Monitor         2  653.128235 2021-01-08     1911.48  2021   \n",
      "8       1009      Tablet         2  617.480000 2021-01-09     1234.96  2021   \n",
      "9       1010     Monitor         1  531.730000 2021-01-10      531.73  2021   \n",
      "10      1011      Tablet         2  411.640000 2021-01-11      823.28  2021   \n",
      "11      1012  SmartPhone         1  819.390000 2021-01-12      819.39  2021   \n",
      "12      1013      Laptop         4  564.920000 2021-01-13     2259.68  2021   \n",
      "13      1014     Monitor         1  654.750000 2021-01-14      654.75  2021   \n",
      "14      1015  SmartPhone         4  215.030000 2021-01-15      860.12  2021   \n",
      "15      1016      Laptop         2  694.110000 2021-01-16     1388.22  2021   \n",
      "16      1017      Laptop         3  689.680000 2021-01-17     2069.04  2021   \n",
      "17      1018      Laptop         4  693.550000 2021-01-18     2774.20  2021   \n",
      "18      1019  SmartPhone         4  955.000000 2021-01-19     3820.00  2021   \n",
      "19      1020      Tablet         1  745.460000 2021-01-20      745.46  2021   \n",
      "\n",
      "    Month  Day  DiscountedPrice  \n",
      "0       1    1           884.60  \n",
      "1       1    2           755.40  \n",
      "2       1    3           512.26  \n",
      "3       1    4           741.98  \n",
      "4       1    5           265.16  \n",
      "5       1    6           587.82  \n",
      "6       1    7           587.82  \n",
      "7       1    8           587.82  \n",
      "8       1    9           555.73  \n",
      "9       1   10           478.56  \n",
      "10      1   11           370.48  \n",
      "11      1   12           737.45  \n",
      "12      1   13           508.43  \n",
      "13      1   14           589.27  \n",
      "14      1   15           193.53  \n",
      "15      1   16           624.70  \n",
      "16      1   17           620.71  \n",
      "17      1   18           624.19  \n",
      "18      1   19           859.50  \n",
      "19      1   20           670.91  \n"
     ]
    }
   ],
   "source": [
    "#Define a custom function\n",
    "\n",
    "def discount(price):\n",
    "  return round(price*0.9,2)\n",
    "\n",
    "\n",
    "#applying the function to the 'Price' column\n",
    "df['DiscountedPrice']=df['Price'].apply(discount)\n",
    "print(df)"
   ]
  },
  {
   "cell_type": "code",
   "execution_count": 31,
   "metadata": {},
   "outputs": [],
   "source": [
    "#merged_df=pd.merge(df1,df2,on='key',how='inner')\n",
    "#merge():combines DataFrames based on common columns or indices ,similar to sql join (inner,outer,left,right)\n",
    "#join():combines DataFrames based on there indices .it is convenient method for combining columns from different DatFrame\n",
    "#joined_df=df1.join(df2,how='left')\n",
    "#concat():Concatenates DataFrames along a particular axis(0=row,1=column).it can be used to append DataFrames or combine them by side\n",
    "\n",
    "#concatenated_df=pd.concat([df1,df2],axis=0)#append rows\n",
    "#concatenated_df=pd.concat([df1,df2],axis=1) #combine columns\n"
   ]
  },
  {
   "cell_type": "code",
   "execution_count": 32,
   "metadata": {},
   "outputs": [
    {
     "name": "stdout",
     "output_type": "stream",
     "text": [
      "    Order_id     Product  Quantity       Price  OrderDate  TotalPrice  Year  \\\n",
      "0       1001      Laptop         3  982.890000 2021-01-01     2948.67  2021   \n",
      "1       1002     Monitor         4  839.330000 2021-01-02     3357.32  2021   \n",
      "2       1003      Tablet         4  569.180000 2021-01-03     2276.72  2021   \n",
      "3       1004      Laptop         3  824.420000 2021-01-04     2473.26  2021   \n",
      "4       1005     Monitor         1  294.620000 2021-01-05      294.62  2021   \n",
      "5       1006     Monitor         2  653.128235 2021-01-06     1423.88  2021   \n",
      "6       1007     Monitor         2  653.128235 2021-01-07      629.36  2021   \n",
      "7       1008     Monitor         2  653.128235 2021-01-08     1911.48  2021   \n",
      "8       1009      Tablet         2  617.480000 2021-01-09     1234.96  2021   \n",
      "9       1010     Monitor         1  531.730000 2021-01-10      531.73  2021   \n",
      "10      1011      Tablet         2  411.640000 2021-01-11      823.28  2021   \n",
      "11      1012  SmartPhone         1  819.390000 2021-01-12      819.39  2021   \n",
      "12      1013      Laptop         4  564.920000 2021-01-13     2259.68  2021   \n",
      "13      1014     Monitor         1  654.750000 2021-01-14      654.75  2021   \n",
      "14      1015  SmartPhone         4  215.030000 2021-01-15      860.12  2021   \n",
      "15      1016      Laptop         2  694.110000 2021-01-16     1388.22  2021   \n",
      "16      1017      Laptop         3  689.680000 2021-01-17     2069.04  2021   \n",
      "17      1018      Laptop         4  693.550000 2021-01-18     2774.20  2021   \n",
      "18      1019  SmartPhone         4  955.000000 2021-01-19     3820.00  2021   \n",
      "19      1020      Tablet         1  745.460000 2021-01-20      745.46  2021   \n",
      "\n",
      "    Month  Day  DiscountedPrice  Laptop  Monitor  SmartPhone  Tablet  \n",
      "0       1    1           884.60    True    False       False   False  \n",
      "1       1    2           755.40   False     True       False   False  \n",
      "2       1    3           512.26   False    False       False    True  \n",
      "3       1    4           741.98    True    False       False   False  \n",
      "4       1    5           265.16   False     True       False   False  \n",
      "5       1    6           587.82   False     True       False   False  \n",
      "6       1    7           587.82   False     True       False   False  \n",
      "7       1    8           587.82   False     True       False   False  \n",
      "8       1    9           555.73   False    False       False    True  \n",
      "9       1   10           478.56   False     True       False   False  \n",
      "10      1   11           370.48   False    False       False    True  \n",
      "11      1   12           737.45   False    False        True   False  \n",
      "12      1   13           508.43    True    False       False   False  \n",
      "13      1   14           589.27   False     True       False   False  \n",
      "14      1   15           193.53   False    False        True   False  \n",
      "15      1   16           624.70    True    False       False   False  \n",
      "16      1   17           620.71    True    False       False   False  \n",
      "17      1   18           624.19    True    False       False   False  \n",
      "18      1   19           859.50   False    False        True   False  \n",
      "19      1   20           670.91   False    False       False    True  \n"
     ]
    }
   ],
   "source": [
    "#how do you handle categorical data in pandas\n",
    "df['Product']=pd.Categorical(df['Product'])\n",
    "\n",
    "#create dummy variables\n",
    "dummies=pd.get_dummies(df['Product'])\n",
    "df=pd.concat([df,dummies],axis=1)\n",
    "print(df)"
   ]
  },
  {
   "cell_type": "code",
   "execution_count": 33,
   "metadata": {},
   "outputs": [],
   "source": [
    "#how to improve the performance of pandas operations on large datasets?\n",
    "# use efficient datatypes:convert columns to appropriate types(eg.'category','int32','float32')\n",
    "# vectorized operations: Avoid loops and use vectorized operations for faster computation\n",
    "# chunking:process data in chunks to reduce memory usage\n",
    "# dask:use dask, a parallel computing libraries that extend pandas for larger than memory management"
   ]
  },
  {
   "cell_type": "code",
   "execution_count": 34,
   "metadata": {},
   "outputs": [],
   "source": [
    "df['Quantity']=df['Quantity'].astype('int32')\n",
    "df['Price']=df['Price'].astype('float32')"
   ]
  },
  {
   "cell_type": "code",
   "execution_count": 35,
   "metadata": {},
   "outputs": [],
   "source": [
    "#what are some Techniques for dealing with imbalanced datasets?\n",
    "# Resampling: use oversampling(eg. SMOTE)or undersampling to balance the classes\n",
    "# Class Weights :Use class weights in your model to give more importance to the minority class\n",
    "# Anomaly detection: Treat the minority class as anomly and use anomly detections algorithm"
   ]
  },
  {
   "cell_type": "code",
   "execution_count": 36,
   "metadata": {},
   "outputs": [],
   "source": [
    "#example of using class weights in scikit-learn\n",
    "from sklearn.ensemble import RandomForestClassifier\n",
    "model=RandomForestClassifier(class_weight='balanced')"
   ]
  },
  {
   "cell_type": "code",
   "execution_count": 37,
   "metadata": {},
   "outputs": [
    {
     "name": "stdout",
     "output_type": "stream",
     "text": [
      "    Order_id     Product  Quantity       Price  OrderDate  TotalPrice  Year  \\\n",
      "0       1001      Laptop         3  982.890015 2021-01-01     2948.67  2021   \n",
      "1       1002     Monitor         4  839.330017 2021-01-02     3357.32  2021   \n",
      "2       1003      Tablet         4  569.179993 2021-01-03     2276.72  2021   \n",
      "3       1004      Laptop         3  824.419983 2021-01-04     2473.26  2021   \n",
      "4       1005     Monitor         1  294.619995 2021-01-05      294.62  2021   \n",
      "5       1006     Monitor         2  653.128235 2021-01-06     1423.88  2021   \n",
      "6       1007     Monitor         2  653.128235 2021-01-07      629.36  2021   \n",
      "7       1008     Monitor         2  653.128235 2021-01-08     1911.48  2021   \n",
      "8       1009      Tablet         2  617.479980 2021-01-09     1234.96  2021   \n",
      "9       1010     Monitor         1  531.729980 2021-01-10      531.73  2021   \n",
      "10      1011      Tablet         2  411.640015 2021-01-11      823.28  2021   \n",
      "11      1012  SmartPhone         1  819.390015 2021-01-12      819.39  2021   \n",
      "12      1013      Laptop         4  564.919983 2021-01-13     2259.68  2021   \n",
      "13      1014     Monitor         1  654.750000 2021-01-14      654.75  2021   \n",
      "14      1015  SmartPhone         4  215.029999 2021-01-15      860.12  2021   \n",
      "15      1016      Laptop         2  694.109985 2021-01-16     1388.22  2021   \n",
      "16      1017      Laptop         3  689.679993 2021-01-17     2069.04  2021   \n",
      "17      1018      Laptop         4  693.549988 2021-01-18     2774.20  2021   \n",
      "18      1019  SmartPhone         4  955.000000 2021-01-19     3820.00  2021   \n",
      "19      1020      Tablet         1  745.460022 2021-01-20      745.46  2021   \n",
      "\n",
      "    Month  Day  DiscountedPrice  Laptop  Monitor  SmartPhone  Tablet  \\\n",
      "0       1    1           884.60    True    False       False   False   \n",
      "1       1    2           755.40   False     True       False   False   \n",
      "2       1    3           512.26   False    False       False    True   \n",
      "3       1    4           741.98    True    False       False   False   \n",
      "4       1    5           265.16   False     True       False   False   \n",
      "5       1    6           587.82   False     True       False   False   \n",
      "6       1    7           587.82   False     True       False   False   \n",
      "7       1    8           587.82   False     True       False   False   \n",
      "8       1    9           555.73   False    False       False    True   \n",
      "9       1   10           478.56   False     True       False   False   \n",
      "10      1   11           370.48   False    False       False    True   \n",
      "11      1   12           737.45   False    False        True   False   \n",
      "12      1   13           508.43    True    False       False   False   \n",
      "13      1   14           589.27   False     True       False   False   \n",
      "14      1   15           193.53   False    False        True   False   \n",
      "15      1   16           624.70    True    False       False   False   \n",
      "16      1   17           620.71    True    False       False   False   \n",
      "17      1   18           624.19    True    False       False   False   \n",
      "18      1   19           859.50   False    False        True   False   \n",
      "19      1   20           670.91   False    False       False    True   \n",
      "\n",
      "    RollingMeanPrice  \n",
      "0                NaN  \n",
      "1                NaN  \n",
      "2         797.133341  \n",
      "3         744.309998  \n",
      "4         562.739990  \n",
      "5         590.722738  \n",
      "6         533.625488  \n",
      "7         653.128235  \n",
      "8         641.245483  \n",
      "9         600.779399  \n",
      "10        520.283325  \n",
      "11        587.586670  \n",
      "12        598.650004  \n",
      "13        679.686666  \n",
      "14        478.233327  \n",
      "15        521.296661  \n",
      "16        532.939992  \n",
      "17        692.446655  \n",
      "18        779.409993  \n",
      "19        798.003337  \n"
     ]
    }
   ],
   "source": [
    "# Window function in pandas:allows to perform operations over a sliding window of data , which is useful for time series analysis\n",
    "df['RollingMeanPrice']=df['Price'].rolling(window=3).mean()\n",
    "print(df)"
   ]
  },
  {
   "cell_type": "code",
   "execution_count": 38,
   "metadata": {},
   "outputs": [
    {
     "name": "stdout",
     "output_type": "stream",
     "text": [
      "\n",
      "DataFrame after dropping columns after DiscountedPrice :\n",
      "    Order_id     Product  Quantity       Price  OrderDate  TotalPrice  Year  \\\n",
      "0       1001      Laptop         3  982.890015 2021-01-01     2948.67  2021   \n",
      "1       1002     Monitor         4  839.330017 2021-01-02     3357.32  2021   \n",
      "2       1003      Tablet         4  569.179993 2021-01-03     2276.72  2021   \n",
      "3       1004      Laptop         3  824.419983 2021-01-04     2473.26  2021   \n",
      "4       1005     Monitor         1  294.619995 2021-01-05      294.62  2021   \n",
      "5       1006     Monitor         2  653.128235 2021-01-06     1423.88  2021   \n",
      "6       1007     Monitor         2  653.128235 2021-01-07      629.36  2021   \n",
      "7       1008     Monitor         2  653.128235 2021-01-08     1911.48  2021   \n",
      "8       1009      Tablet         2  617.479980 2021-01-09     1234.96  2021   \n",
      "9       1010     Monitor         1  531.729980 2021-01-10      531.73  2021   \n",
      "10      1011      Tablet         2  411.640015 2021-01-11      823.28  2021   \n",
      "11      1012  SmartPhone         1  819.390015 2021-01-12      819.39  2021   \n",
      "12      1013      Laptop         4  564.919983 2021-01-13     2259.68  2021   \n",
      "13      1014     Monitor         1  654.750000 2021-01-14      654.75  2021   \n",
      "14      1015  SmartPhone         4  215.029999 2021-01-15      860.12  2021   \n",
      "15      1016      Laptop         2  694.109985 2021-01-16     1388.22  2021   \n",
      "16      1017      Laptop         3  689.679993 2021-01-17     2069.04  2021   \n",
      "17      1018      Laptop         4  693.549988 2021-01-18     2774.20  2021   \n",
      "18      1019  SmartPhone         4  955.000000 2021-01-19     3820.00  2021   \n",
      "19      1020      Tablet         1  745.460022 2021-01-20      745.46  2021   \n",
      "\n",
      "    Month  Day  DiscountedPrice  \n",
      "0       1    1           884.60  \n",
      "1       1    2           755.40  \n",
      "2       1    3           512.26  \n",
      "3       1    4           741.98  \n",
      "4       1    5           265.16  \n",
      "5       1    6           587.82  \n",
      "6       1    7           587.82  \n",
      "7       1    8           587.82  \n",
      "8       1    9           555.73  \n",
      "9       1   10           478.56  \n",
      "10      1   11           370.48  \n",
      "11      1   12           737.45  \n",
      "12      1   13           508.43  \n",
      "13      1   14           589.27  \n",
      "14      1   15           193.53  \n",
      "15      1   16           624.70  \n",
      "16      1   17           620.71  \n",
      "17      1   18           624.19  \n",
      "18      1   19           859.50  \n",
      "19      1   20           670.91  \n"
     ]
    }
   ],
   "source": [
    "#drop columns\n",
    "column_after='DiscountedPrice'\n",
    "columns=df.columns.tolist()\n",
    "position=columns.index(column_after)\n",
    "columns_to_drop=columns[position+1:] #all the columns after c\n",
    "df_dropped=df.drop(columns=columns_to_drop)\n",
    "print(\"\\nDataFrame after dropping columns after DiscountedPrice :\")\n",
    "print(df_dropped)"
   ]
  },
  {
   "cell_type": "code",
   "execution_count": null,
   "metadata": {},
   "outputs": [],
   "source": []
  }
 ],
 "metadata": {
  "kernelspec": {
   "display_name": ".venv",
   "language": "python",
   "name": "python3"
  },
  "language_info": {
   "codemirror_mode": {
    "name": "ipython",
    "version": 3
   },
   "file_extension": ".py",
   "mimetype": "text/x-python",
   "name": "python",
   "nbconvert_exporter": "python",
   "pygments_lexer": "ipython3",
   "version": "3.12.2"
  }
 },
 "nbformat": 4,
 "nbformat_minor": 2
}
